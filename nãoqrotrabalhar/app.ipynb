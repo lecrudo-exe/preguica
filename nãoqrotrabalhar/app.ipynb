{
 "cells": [
  {
   "cell_type": "code",
   "execution_count": 5,
   "metadata": {},
   "outputs": [
    {
     "name": "stdout",
     "output_type": "stream",
     "text": [
      "Point(x=67, y=143)\n"
     ]
    }
   ],
   "source": [
    "import pyautogui as pa \n",
    "import time as time \n",
    "print(pa.position())"
   ]
  },
  {
   "cell_type": "code",
   "execution_count": 23,
   "metadata": {},
   "outputs": [],
   "source": [
    "def pressionar_tecla_rapidamente(tecla, vezes):\n",
    "    \"\"\"\n",
    "    Pressiona uma tecla específica um determinado número de vezes de forma rápida.\n",
    "\n",
    "    Args:\n",
    "    tecla (str): A tecla a ser pressionada.\n",
    "    vezes (int): Quantas vezes a tecla deve ser pressionada.\n",
    "    \"\"\"\n",
    "    pa.write(tecla * vezes, interval=0.0001)"
   ]
  },
  {
   "cell_type": "code",
   "execution_count": 36,
   "metadata": {},
   "outputs": [
    {
     "name": "stdout",
     "output_type": "stream",
     "text": [
      "Point(x=1079, y=727)\n"
     ]
    }
   ],
   "source": [
    "time.sleep(4)\n",
    "print(pa.position())"
   ]
  },
  {
   "cell_type": "code",
   "execution_count": null,
   "metadata": {},
   "outputs": [],
   "source": [
    "# Inicia a contagem de tempo\n",
    "inicio = time.time()\n",
    "encontrado = False\n",
    "\n",
    "# Loop que dura até 5 segundos\n",
    "while time.time() - inicio < 5:\n",
    "    if \"Sua busca não retornou informação\" in pyperclip.paste():\n",
    "        encontrado = True\n",
    "        print(\"Texto encontrado na área de transferência.\")\n",
    "        break  # Sai do loop se o texto for encontrado\n",
    "    else:\n",
    "        # Espera um pouco antes da próxima verificação para economizar recursos\n",
    "        time.sleep(0.5)\n",
    "\n",
    "if not encontrado:\n",
    "    print(\"Texto não encontrado dentro do tempo limite.\")\n",
    "    # O código continua daqui se o texto não for encontrado\n"
   ]
  },
  {
   "cell_type": "code",
   "execution_count": 39,
   "metadata": {},
   "outputs": [],
   "source": [
    "time.sleep(3)\n",
    "pa.click(x=920, y=248)\n",
    "pa.press(\"down\")\n",
    "time.sleep(0.6)\n",
    "pa.hotkey(\"ctrl\", \"c\")\n",
    "pa.hotkey(\"ctrl\",\"1\")\n",
    "pa.click(x=442, y=149)\n",
    "time.sleep(1)\n",
    "pa.click(x=777, y=596)\n",
    "pa.hotkey(\"ctrl\", \"v\")\n",
    "pa.click(x=1079, y=727)\n"
   ]
  }
 ],
 "metadata": {
  "kernelspec": {
   "display_name": "Python 3",
   "language": "python",
   "name": "python3"
  },
  "language_info": {
   "codemirror_mode": {
    "name": "ipython",
    "version": 3
   },
   "file_extension": ".py",
   "mimetype": "text/x-python",
   "name": "python",
   "nbconvert_exporter": "python",
   "pygments_lexer": "ipython3",
   "version": "3.8.2"
  },
  "orig_nbformat": 4
 },
 "nbformat": 4,
 "nbformat_minor": 2
}
